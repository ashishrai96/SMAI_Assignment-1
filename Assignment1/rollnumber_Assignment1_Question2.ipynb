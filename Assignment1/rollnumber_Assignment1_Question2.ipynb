{
 "cells": [
  {
   "cell_type": "markdown",
   "id": "866ed254",
   "metadata": {},
   "source": [
    "# Approximate Nearest Neighbors:\n",
    "\n",
    "# Image Recommendation System via Collaborative Filtering"
   ]
  },
  {
   "cell_type": "markdown",
   "id": "2e08937a",
   "metadata": {},
   "source": [
    "# ***Please read the instructions very carefully***\n",
    "This is a modified version of the previous question and requires you to use an artificial nearest neighbors library\n",
    "\n",
    "We suggest you to use one of the following:\n",
    "- [ScaNN](https://github.com/google-research/google-research/tree/master/scann)\n",
    "- [FAISS](https://github.com/facebookresearch/faiss)\n",
    "- [Annoy](https://github.com/spotify/annoy.git)"
   ]
  },
  {
   "cell_type": "markdown",
   "id": "489a4212",
   "metadata": {},
   "source": [
    "1.   Assignment must be implemented in Python 3 only.\n",
    "2.   You are allowed to use libraries for data preprocessing (numpy, pandas, nltk etc) and for evaluation metrics, data visualization (matplotlib etc.).\n",
    "3.   You will be evaluated not just on the overall performance of the model and also on the experimentation with hyper parameters, data prepossessing techniques etc.\n",
    "4.   ⚠️ The Assignment will be evaluated automatically. Please adhere to taking proper inputs from `config.csv` file. You can change your `config.csv` file to experiment with your code. But at the end, make sure that your outputs are corresponding to input values in `config.csv`\n",
    "5.   Strict plagiarism checking will be done. An F will be awarded for plagiarism."
   ]
  },
  {
   "cell_type": "markdown",
   "id": "f494560c",
   "metadata": {},
   "source": [
    "## About the Dataset\n",
    "Behance is a community art website where users showcase and discover creative work. Each user is able to “appreciate” (equivalent to a “like” on Instagram or a “react” on Facebook) an image, indicating that they like the image. It is in the website’s best interests to show users pictures that they would like, to keep them engaged for longer. For this question, given a set of pictures that a user has already appreciated, you have to show them a new picture that they would like based on what similar users appreciated.\n",
    "\n",
    "\n",
    "<br><br>\n",
    "**The dataset has information of 1 million appreciates of 63,497 users on 178,788 items. The file Behance appreciate 1M has a triplet in each line in the form of (user id, item id, unix timestamp).**"
   ]
  },
  {
   "cell_type": "markdown",
   "id": "d8dd3f15",
   "metadata": {},
   "source": [
    "**Task: Take the inputs from the config.csv file and output the recommendations for a particular person**\n",
    "- Collaborative Filtering is a way to predict items to the user based on the the\n",
    "user’s history and the history of similar users. The similarity between users can be quantified by the number of images that both the users appreciated.\n",
    "- The images appreciated by a similar user would be the most suitable images to show a user. Since we can find the similarity between any two users, we would be able to find the “nearest” neighbours of any user, allowing us to use a KNN-based algorithm to recommend new images to a user.\n",
    "- Since people do not like seeing pictures that they have seen already. Make sure that you do not recommend pictures that a user has appreciated already.\n",
    "- Output the final response will be saved in the file named ```config['output_file']```.\n"
   ]
  },
  {
   "cell_type": "markdown",
   "id": "68a52fe5",
   "metadata": {},
   "source": [
    "**Output file format:**\n",
    "Populate the output file with images that the user has not seen of the k most\n",
    "similar users, in descending order of their similarity. Each line in the output\n",
    "file should be a duplet in the form of (item id, user id), where the user id is the\n",
    "id of the kth similar user. The order of the images corresponding to the same\n",
    "similar user would not matter. The output file would look something like this:\n",
    "```\n",
    "item_id_1_of_1st_similar_user 1st_most_similar_user_id\n",
    "item_id_2_of_1st_similar_user 1st_most_similar_user_id\n",
    "item_id_3_of_1st_similar_user 1st_most_similar_user_id\n",
    "...\n",
    "item_id_1_of_2nd_similar_user 2nd_most_similar_user_id\n",
    "item_id_2_of_2nd_similar_user 2nd_most_similar_user_id\n",
    "item_id_3_of_2nd_similar_user 2nd_most_similar_user_id\n",
    "...\n",
    "item_id_1_of_kth_similar_user kth_most_similar_user_id\n",
    "item_id_2_of_kth_similar_user kth_most_similar_user_id\n",
    "item_id_3_of_kth_similar_user kth_most_similar_user_id\n",
    "```"
   ]
  },
  {
   "cell_type": "markdown",
   "id": "26d46fd2",
   "metadata": {},
   "source": [
    "You may use any other recommendation system that you wish to use. However,\n",
    "evaluation script will score your submission by measuring the similarity between\n",
    "users with the number of common images they appreciated.\n",
    "The dataset was extracted using Behance’s API as a part of the paper\n",
    "“Vista: A visually, socially, and temporally-aware model for artistic\n",
    "recommendation, RecSys, 2016”. Check out this [Google Drive folder](https://drive.google.com/drive/folders/0B9Ck8jw-TZUEc3NlMjVXdDlPU1k?resourcekey=0-6_8ykn0o4fLc5fuTEm91xA) for\n",
    "more information about the dataset.\n",
    "\n",
    "\n",
    "Have fun! The users are waiting to see new pictures!"
   ]
  },
  {
   "cell_type": "markdown",
   "id": "912088cf",
   "metadata": {},
   "source": [
    "### Import necessary libraries"
   ]
  },
  {
   "cell_type": "code",
   "execution_count": 28,
   "id": "13e9cbe3",
   "metadata": {},
   "outputs": [],
   "source": [
    "import numpy as np\n",
    "import pandas as pd\n",
    "\n",
    "from scipy.sparse import csr_matrix\n",
    "from sklearn.decomposition import TruncatedSVD\n",
    "from numpy import dot\n",
    "from numpy.linalg import norm"
   ]
  },
  {
   "cell_type": "code",
   "execution_count": 29,
   "id": "0c9c4cd1",
   "metadata": {},
   "outputs": [],
   "source": [
    "# Config Generation Sample Code.\n",
    "# ⚠️ Only for experimentation on your side.\n",
    "# ⚠️ Should be commented during submission.\n",
    "\n",
    "# df = pd.DataFrame(data=[{'id':276633,\n",
    "#                   'k':5,\n",
    "#                   'dataset_file':'./Behance_appreciate_1M',\n",
    "#                   'output_file':'./output.txt'}])\n",
    "# df.to_csv('config.csv')"
   ]
  },
  {
   "cell_type": "code",
   "execution_count": 30,
   "id": "cb6bc1ff",
   "metadata": {},
   "outputs": [],
   "source": [
    "config = pd.read_csv('config.csv').iloc[0]"
   ]
  },
  {
   "cell_type": "code",
   "execution_count": 31,
   "id": "ef721d6b",
   "metadata": {},
   "outputs": [
    {
     "data": {
      "text/plain": [
       "Unnamed: 0                            0\n",
       "id                               276633\n",
       "k                                     5\n",
       "dataset_file    ./Behance_appreciate_1M\n",
       "output_file                ./output.txt\n",
       "Name: 0, dtype: object"
      ]
     },
     "execution_count": 31,
     "metadata": {},
     "output_type": "execute_result"
    }
   ],
   "source": [
    "config"
   ]
  },
  {
   "cell_type": "code",
   "execution_count": 32,
   "id": "4966a889",
   "metadata": {},
   "outputs": [],
   "source": [
    "user = config['id']\n",
    "k_value = config['k']"
   ]
  },
  {
   "cell_type": "markdown",
   "id": "e8e50dee",
   "metadata": {},
   "source": [
    "### Read the Data"
   ]
  },
  {
   "cell_type": "code",
   "execution_count": 33,
   "id": "cd74173b",
   "metadata": {},
   "outputs": [],
   "source": [
    "with open(config['dataset_file'], 'r') as inFile:\n",
    "    appreciate_data = inFile.readlines()"
   ]
  },
  {
   "cell_type": "code",
   "execution_count": 34,
   "id": "e8542cda",
   "metadata": {},
   "outputs": [],
   "source": [
    "# your code here"
   ]
  },
  {
   "cell_type": "markdown",
   "id": "e09e9961",
   "metadata": {},
   "source": [
    "### Initialize a dictionary to store the item_ids that a user likes\n",
    "\n",
    "### Go through each line of the input file and construct the user_likes dictionary"
   ]
  },
  {
   "cell_type": "code",
   "execution_count": 35,
   "id": "8ff4a80d",
   "metadata": {},
   "outputs": [],
   "source": [
    "user_likes = dict()\n",
    "users = set()\n",
    "images = set()\n",
    "user_index = dict()\n",
    "index_user = dict()\n",
    "image_index = dict()"
   ]
  },
  {
   "cell_type": "code",
   "execution_count": 36,
   "id": "5b55dc0b",
   "metadata": {},
   "outputs": [],
   "source": [
    "for line in appreciate_data:\n",
    "    line = line.strip()\n",
    "    \n",
    "    user_id = int(line.split()[0])\n",
    "    try:\n",
    "      item_id = int(line.split()[1])\n",
    "    except:\n",
    "      continue\n",
    "\n",
    "    if user_id not in user_likes:\n",
    "        user_likes[user_id] = list()\n",
    "        users.add(user_id)\n",
    "    images.add(item_id)\n",
    "    \n",
    "    user_likes[user_id].append(item_id)"
   ]
  },
  {
   "cell_type": "markdown",
   "id": "5aebf542",
   "metadata": {},
   "source": [
    "- Creating dictionary to map user_id to index of an array and vice-versa.\n",
    "- Creating dictionary to map image item_id to index of its array."
   ]
  },
  {
   "cell_type": "code",
   "execution_count": 37,
   "id": "4311ff0d",
   "metadata": {},
   "outputs": [],
   "source": [
    "for i,u in enumerate(users):\n",
    "    user_index[u] = i\n",
    "    index_user[i] = u\n",
    "\n",
    "for i,im in enumerate(images):\n",
    "    image_index[im] = i"
   ]
  },
  {
   "cell_type": "markdown",
   "id": "658a9796",
   "metadata": {},
   "source": [
    "Creating vectors of sparse matrix, viz. user,item,value"
   ]
  },
  {
   "cell_type": "code",
   "execution_count": 38,
   "id": "6ed2ba67",
   "metadata": {},
   "outputs": [],
   "source": [
    "user_array = list()\n",
    "item_array = list()\n",
    "value_array = list()\n",
    "\n",
    "for uid in user_likes:\n",
    "    for iid in user_likes[uid]:\n",
    "        user_array.append(user_index[uid])\n",
    "        item_array.append(image_index[iid])\n",
    "        value_array.append(1)\n"
   ]
  },
  {
   "cell_type": "markdown",
   "id": "b64d020c",
   "metadata": {},
   "source": [
    "- Calculation of CSR and SVD"
   ]
  },
  {
   "cell_type": "code",
   "execution_count": 39,
   "id": "196c9d0d",
   "metadata": {},
   "outputs": [],
   "source": [
    "csr = csr_matrix((value_array, (user_array, item_array)), dtype=np.int8)\n",
    "svd = TruncatedSVD(n_components=1000)\n",
    "csr = svd.fit_transform(csr)"
   ]
  },
  {
   "cell_type": "markdown",
   "id": "cd017880",
   "metadata": {},
   "source": [
    "### Use your choice of Approximate Nearest Neigbor after Collaborative Filtering to find nearest neighbors"
   ]
  },
  {
   "cell_type": "code",
   "execution_count": 43,
   "id": "5ee1d377",
   "metadata": {},
   "outputs": [
    {
     "ename": "NameError",
     "evalue": "name 'scann' is not defined",
     "output_type": "error",
     "traceback": [
      "\u001b[0;31m---------------------------------------------------------------------------\u001b[0m",
      "\u001b[0;31mNameError\u001b[0m                                 Traceback (most recent call last)",
      "Input \u001b[0;32mIn [43]\u001b[0m, in \u001b[0;36m<module>\u001b[0;34m\u001b[0m\n\u001b[1;32m      9\u001b[0m     \u001b[38;5;28mprint\u001b[39m(neighbors)\n\u001b[1;32m     10\u001b[0m     \u001b[38;5;28;01mpass\u001b[39;00m\n\u001b[0;32m---> 12\u001b[0m \u001b[43mneighbors\u001b[49m\u001b[43m(\u001b[49m\u001b[43muser\u001b[49m\u001b[43m,\u001b[49m\u001b[43mk_value\u001b[49m\u001b[43m)\u001b[49m\n",
      "Input \u001b[0;32mIn [43]\u001b[0m, in \u001b[0;36mneighbors\u001b[0;34m(user, k_value)\u001b[0m\n\u001b[1;32m      3\u001b[0m \u001b[38;5;124;03m\"\"\" returns an iterable object (like list or generator) \"\"\"\u001b[39;00m\n\u001b[1;32m      4\u001b[0m out \u001b[38;5;241m=\u001b[39m csr \u001b[38;5;241m/\u001b[39m np\u001b[38;5;241m.\u001b[39mlinalg\u001b[38;5;241m.\u001b[39mnorm(csr, axis\u001b[38;5;241m=\u001b[39m\u001b[38;5;241m1\u001b[39m)[:, np\u001b[38;5;241m.\u001b[39mnewaxis]\n\u001b[0;32m----> 6\u001b[0m searcher \u001b[38;5;241m=\u001b[39m \u001b[43mscann\u001b[49m\u001b[38;5;241m.\u001b[39mscann_ops_pybind\u001b[38;5;241m.\u001b[39mbuilder(out , \u001b[38;5;241m10\u001b[39m, \u001b[38;5;124m\"\u001b[39m\u001b[38;5;124mdot_product\u001b[39m\u001b[38;5;124m\"\u001b[39m)\u001b[38;5;241m.\u001b[39mtree(num_leaves\u001b[38;5;241m=\u001b[39m\u001b[38;5;241m8000\u001b[39m, num_leaves_to_search\u001b[38;5;241m=\u001b[39m\u001b[38;5;241m100\u001b[39m, training_sample_size\u001b[38;5;241m=\u001b[39m\u001b[38;5;28mlen\u001b[39m(users))\u001b[38;5;241m.\u001b[39mscore_ah(\u001b[38;5;241m2\u001b[39m, anisotropic_quantization_threshold\u001b[38;5;241m=\u001b[39m\u001b[38;5;241m0.2\u001b[39m)\u001b[38;5;241m.\u001b[39mreorder(\u001b[38;5;241m100\u001b[39m)\u001b[38;5;241m.\u001b[39mbuild()\n\u001b[1;32m      8\u001b[0m neighbors, distances \u001b[38;5;241m=\u001b[39m searcher\u001b[38;5;241m.\u001b[39msearch(out[user_index[user]] , final_num_neighbors\u001b[38;5;241m=\u001b[39mk_value \u001b[38;5;241m+\u001b[39m \u001b[38;5;241m1\u001b[39m)\n\u001b[1;32m      9\u001b[0m \u001b[38;5;28mprint\u001b[39m(neighbors)\n",
      "\u001b[0;31mNameError\u001b[0m: name 'scann' is not defined"
     ]
    }
   ],
   "source": [
    "# your code here\n",
    "def neighbors(user,k_value):\n",
    "    \"\"\" returns an iterable object (like list or generator) \"\"\"\n",
    "    out = csr / np.linalg.norm(csr, axis=1)[:, np.newaxis]\n",
    "\n",
    "    searcher = scann.scann_ops_pybind.builder(out , 10, \"dot_product\").tree(num_leaves=8000, num_leaves_to_search=100, training_sample_size=len(users)).score_ah(2, anisotropic_quantization_threshold=0.2).reorder(100).build()\n",
    "\n",
    "    neighbors, distances = searcher.search(out[user_index[user]] , final_num_neighbors=k_value + 1)\n",
    "    print(neighbors)\n",
    "    pass\n",
    "\n",
    "neighbors(user,k_value)"
   ]
  },
  {
   "cell_type": "markdown",
   "id": "0b6f24d6",
   "metadata": {},
   "source": [
    "### Answer the following questions:"
   ]
  },
  {
   "cell_type": "markdown",
   "id": "012f72f8",
   "metadata": {},
   "source": [
    "#### Q1. **Explain how your choice of library works**\n",
    "\n",
    "*your solution here*"
   ]
  },
  {
   "cell_type": "markdown",
   "id": "3b0ac14b",
   "metadata": {},
   "source": [
    "#### Q2. **Compare your choice of library with vanilla KNN.**\n",
    "***Hint: Include Time Complexity, and explain the tradeoff with recall***\n",
    "\n",
    "*your solution here*"
   ]
  },
  {
   "cell_type": "markdown",
   "id": "400d7827",
   "metadata": {},
   "source": [
    "#### Q3. **Compare your choice of library with implementation of ScaNN, faiss and annoy.**\n",
    "***Hint: Include Time Complexity, and explain the tradeoff with recall***\n",
    "\n",
    "*your solution here*"
   ]
  },
  {
   "cell_type": "markdown",
   "id": "142440b0",
   "metadata": {},
   "source": [
    "### Open the output file to write all the lines to the file"
   ]
  },
  {
   "cell_type": "code",
   "execution_count": null,
   "id": "977b08f9",
   "metadata": {},
   "outputs": [
    {
     "ename": "TypeError",
     "evalue": "'NoneType' object is not iterable",
     "output_type": "error",
     "traceback": [
      "\u001b[0;31m---------------------------------------------------------------------------\u001b[0m",
      "\u001b[0;31mTypeError\u001b[0m                                 Traceback (most recent call last)",
      "Input \u001b[0;32mIn [25]\u001b[0m, in \u001b[0;36m<module>\u001b[0;34m\u001b[0m\n\u001b[1;32m      1\u001b[0m outFile \u001b[38;5;241m=\u001b[39m \u001b[38;5;28mopen\u001b[39m(config[\u001b[38;5;124m'\u001b[39m\u001b[38;5;124moutput_file\u001b[39m\u001b[38;5;124m'\u001b[39m], \u001b[38;5;124m'\u001b[39m\u001b[38;5;124mw\u001b[39m\u001b[38;5;124m'\u001b[39m)\n\u001b[0;32m----> 3\u001b[0m \u001b[38;5;28;01mfor\u001b[39;00m n_user \u001b[38;5;129;01min\u001b[39;00m neighbors(user,k_value):\n\u001b[1;32m      4\u001b[0m     user_id \u001b[38;5;241m=\u001b[39m \u001b[38;5;28mlist\u001b[39m(user_likes\u001b[38;5;241m.\u001b[39mkeys())[n_user]\n\u001b[1;32m      5\u001b[0m     \u001b[38;5;28;01mfor\u001b[39;00m item_id \u001b[38;5;129;01min\u001b[39;00m user_likes[user_id]:\n",
      "\u001b[0;31mTypeError\u001b[0m: 'NoneType' object is not iterable"
     ]
    }
   ],
   "source": [
    "outFile = open(config['output_file'], 'w')\n",
    "\n",
    "for n_user in neighbors(user,k_value):\n",
    "    user_id = list(user_likes.keys())[n_user]\n",
    "    for item_id in user_likes[user_id]:\n",
    "        outFile.write(str(item_id) + ' ' + str(user_id) + '\\n')\n",
    "\n",
    "outFile.close()"
   ]
  }
 ],
 "metadata": {
  "kernelspec": {
   "display_name": "Python 3",
   "language": "python",
   "name": "python3"
  },
  "language_info": {
   "codemirror_mode": {
    "name": "ipython",
    "version": 3
   },
   "file_extension": ".py",
   "mimetype": "text/x-python",
   "name": "python",
   "nbconvert_exporter": "python",
   "pygments_lexer": "ipython3",
   "version": "3.8.9"
  }
 },
 "nbformat": 4,
 "nbformat_minor": 5
}

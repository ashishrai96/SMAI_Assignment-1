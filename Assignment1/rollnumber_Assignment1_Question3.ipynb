{
 "cells": [
  {
   "cell_type": "markdown",
   "id": "02c54141",
   "metadata": {},
   "source": [
    "## Spam Email Classifier with KNN using TF-IDF scores"
   ]
  },
  {
   "cell_type": "markdown",
   "id": "1c17102e",
   "metadata": {},
   "source": [
    "1.   Assignment must be implemented in Python 3 only.\n",
    "2.   You are allowed to use libraries for data preprocessing (numpy, pandas, nltk etc) and for evaluation metrics, data visualization (matplotlib etc.).\n",
    "3.   You will be evaluated not just on the overall performance of the model and also on the experimentation with hyper parameters, data prepossessing techniques etc.\n",
    "4.   The report file must be a well documented jupyter notebook, explaining the experiments you have performed, evaluation metrics and corresponding code. The code must run and be able to reproduce the accuracies, figures/graphs etc.\n",
    "5.   For all the questions, you must create a train-validation data split and test the hyperparameter tuning on the validation set. Your jupyter notebook must reflect the same.\n",
    "6.   Strict plagiarism checking will be done. An F will be awarded for plagiarism."
   ]
  },
  {
   "cell_type": "markdown",
   "id": "0d34a310",
   "metadata": {},
   "source": [
    "**Task: Given an email, classify it as spam or ham**\n",
    "\n",
    "Given input text file (\"emails.txt\") containing 5572 email messages, with each row having its corresponding label (spam/ham) attached to it.\n",
    "\n",
    "This task also requires basic pre-processing of text (like removing stopwords, stemming/lemmatizing, replacing email_address with 'email-tag', etc..).\n",
    "\n",
    "You are required to find the tf-idf scores for the given data and use them to perform KNN using Cosine Similarity."
   ]
  },
  {
   "cell_type": "markdown",
   "id": "b0c87696",
   "metadata": {},
   "source": [
    "### Import necessary libraries"
   ]
  },
  {
   "cell_type": "code",
   "execution_count": 32,
   "id": "3d5a1fe2",
   "metadata": {},
   "outputs": [],
   "source": [
    "import pandas as pd\n",
    "import numpy as np\n",
    "from numpy import dot\n",
    "from numpy.linalg import norm\n",
    "from nltk.stem import PorterStemmer\n",
    "from nltk.corpus import stopwords\n",
    "import string\n",
    "import math\n",
    "from sklearn import metrics\n",
    "from sklearn.neighbors import KNeighborsClassifier\n",
    "import matplotlib.pyplot as plt"
   ]
  },
  {
   "cell_type": "markdown",
   "id": "7aef4dff",
   "metadata": {},
   "source": [
    "### Load dataset"
   ]
  },
  {
   "cell_type": "code",
   "execution_count": 33,
   "id": "f178f892",
   "metadata": {},
   "outputs": [],
   "source": [
    "with open('emails.txt', 'r') as inFile:\n",
    "    email_texts = inFile.readlines()"
   ]
  },
  {
   "cell_type": "markdown",
   "id": "cd1ef5ba",
   "metadata": {},
   "source": [
    "### Preprocess data"
   ]
  },
  {
   "cell_type": "code",
   "execution_count": 34,
   "id": "fd1733d7",
   "metadata": {},
   "outputs": [],
   "source": [
    "\n",
    "stop_words = set(stopwords.words('english'))\n",
    "ps = PorterStemmer()\n",
    "\n",
    "raw_data = list()\n",
    "for line in email_texts:\n",
    "    word_list = line.strip().split()[1:]\n",
    "    temp = list()\n",
    "    for w in word_list:\n",
    "        w = w.lower()\n",
    "        for p in string.punctuation:\n",
    "            w = w.replace(p, '')\n",
    "\n",
    "        if(w not in stop_words and w not in string.digits):\n",
    "            temp.append(ps.stem(w))\n",
    "\n",
    "    raw_data.append({ 'label': line.strip().split()[0], 'data': temp })\n",
    "\n",
    "df = pd.DataFrame(raw_data)\n",
    "# df"
   ]
  },
  {
   "cell_type": "markdown",
   "id": "f76767a7",
   "metadata": {},
   "source": [
    "### Split data"
   ]
  },
  {
   "cell_type": "code",
   "execution_count": 35,
   "id": "f75e6cd2",
   "metadata": {},
   "outputs": [],
   "source": [
    "df_data = df.sample(frac=1.0, random_state=1)\n",
    "split_idx1 = math.ceil(0.6 * len(df))\n",
    "split_idx2 = math.ceil(0.8 * len(df))\n",
    "\n",
    "train_data_set = df_data[:split_idx1]\n",
    "validate_data_set = df_data[split_idx1:split_idx2]\n",
    "test_data_set = df_data[split_idx2:]\n",
    "\n",
    "train_data_set.reset_index(inplace=True)\n",
    "train_data_set = train_data_set.drop('index', axis=1)\n",
    "\n",
    "validate_data_set.reset_index(inplace=True)\n",
    "validate_data_set = validate_data_set.drop('index', axis=1)\n",
    "\n",
    "test_data_set.reset_index(inplace=True)\n",
    "test_data_set = test_data_set.drop('index',axis = 1)\n"
   ]
  },
  {
   "cell_type": "markdown",
   "id": "ee6eb76b",
   "metadata": {},
   "source": [
    "### Train your KNN model (reuse previously iplemented model built from scratch) and test on your data"
   ]
  },
  {
   "cell_type": "markdown",
   "id": "22baf6b2",
   "metadata": {},
   "source": [
    "***1. Experiment with different distance measures [Euclidean distance, Manhattan distance, Hamming Distance] and compare with the Cosine Similarity distance results.***"
   ]
  },
  {
   "cell_type": "markdown",
   "id": "7cea0a2a",
   "metadata": {},
   "source": [
    "- Calculation of IDF on train data"
   ]
  },
  {
   "cell_type": "code",
   "execution_count": 36,
   "id": "68f1bb23",
   "metadata": {},
   "outputs": [
    {
     "name": "stdout",
     "output_type": "stream",
     "text": [
      "5574\n"
     ]
    }
   ],
   "source": [
    "train_data_idf = dict()\n",
    "for line in train_data_set['data']:\n",
    "    words = set(line)\n",
    "    for w in words:\n",
    "        if w not in train_data_idf:\n",
    "            train_data_idf[w] = 1\n",
    "        else:\n",
    "            train_data_idf[w] = train_data_idf[w] + 1\n",
    "no_of_docs = df.shape[0]\n",
    "print(no_of_docs)\n",
    "for key in train_data_idf:\n",
    "    train_data_idf[key] = math.log(no_of_docs/(1+train_data_idf[key]))\n",
    "\n",
    "# pd.DataFrame([train_data_idf])"
   ]
  },
  {
   "cell_type": "markdown",
   "id": "6f9b4dcb",
   "metadata": {},
   "source": [
    "- Calculation of TF (Term frequency)"
   ]
  },
  {
   "cell_type": "code",
   "execution_count": 37,
   "id": "d31c167a",
   "metadata": {},
   "outputs": [],
   "source": [
    "def calc_tf(line):\n",
    "    \"\"\"\n",
    "    Fn calculates TF value of each word present in a sentence,\n",
    "    passed as list of words (tokenized form)\n",
    "    \n",
    "    @params:\n",
    "        line: list of words\n",
    "    \n",
    "    @return:\n",
    "        dict: key as word, value as TF value\n",
    "    \"\"\"\n",
    "    tf = dict()\n",
    "    for key in train_data_idf:\n",
    "        tf[key] = 0\n",
    "\n",
    "    for w in line:\n",
    "        if w in tf:\n",
    "            tf[w] = tf[w] + 1\n",
    "\n",
    "    for w in tf:\n",
    "        if len(line) != 0:\n",
    "            tf[w] = tf[w]/len(line)\n",
    "    \n",
    "    return tf"
   ]
  },
  {
   "cell_type": "markdown",
   "id": "b0e28006",
   "metadata": {},
   "source": [
    "- TF-IDF function"
   ]
  },
  {
   "cell_type": "code",
   "execution_count": 38,
   "id": "80877264",
   "metadata": {},
   "outputs": [],
   "source": [
    "def get_tf_idf(idf, data_set):\n",
    "    \"\"\"\n",
    "    Fn calculates TF-IDF value of each word present in argument data_set,\n",
    "    using IDF value passed as argument.\n",
    "\n",
    "    @params:\n",
    "        idf: \n",
    "            dict: key as word, value as IDF value\n",
    "        data_set:\n",
    "            list of object with keys as 'label':string \n",
    "            and 'data': list of word for each sentence\n",
    "    \n",
    "    @return:\n",
    "        np array: list of 1D array as TF-IDF of each word in a sentence of data_set\n",
    "    \"\"\"\n",
    "    tf_idf_dict = list()\n",
    "\n",
    "    for line in data_set['data']:\n",
    "        # if len(line) != 0:\n",
    "        tf = calc_tf(line)\n",
    "        for k in tf:\n",
    "            tf[k] = tf[k] * idf[k]\n",
    "        tf_idf_dict.append(tf)\n",
    "        \n",
    "    tf_idf = list()\n",
    "    for d in tf_idf_dict:\n",
    "        temp = list()\n",
    "        for w in d:\n",
    "            temp.append(d[w])\n",
    "        tf_idf.append(temp)\n",
    "\n",
    "    return np.array(tf_idf)"
   ]
  },
  {
   "cell_type": "markdown",
   "id": "64e62456",
   "metadata": {},
   "source": [
    "- Calculation of TF-IDF of all data set"
   ]
  },
  {
   "cell_type": "code",
   "execution_count": 39,
   "id": "dc3d3636",
   "metadata": {},
   "outputs": [],
   "source": [
    "tf_idf_train = get_tf_idf(train_data_idf, train_data_set)\n",
    "tf_idf_test = get_tf_idf(train_data_idf, test_data_set)\n",
    "tf_idf_validate = get_tf_idf(train_data_idf, validate_data_set)"
   ]
  },
  {
   "cell_type": "markdown",
   "id": "96f45d58",
   "metadata": {},
   "source": [
    "- Similarity Functions"
   ]
  },
  {
   "cell_type": "code",
   "execution_count": 40,
   "id": "31a15bfd",
   "metadata": {},
   "outputs": [],
   "source": [
    "def cosine_sim(train_list, test_list):\n",
    "    return dot(train_list, test_list)/(norm(train_list)*norm(test_list))\n",
    "\n",
    "\n",
    "def euclidean_dist(train_list, test_list):\n",
    "    return norm(train_list - test_list)\n",
    "\n",
    "\n",
    "def manhattan_dist(train_list, test_list):\n",
    "    return np.abs(train_list - test_list).sum()"
   ]
  },
  {
   "cell_type": "code",
   "execution_count": 41,
   "id": "fbdff167",
   "metadata": {},
   "outputs": [],
   "source": [
    "def get_similarity_obj_list(sim_fn, data_set, tf_idf):\n",
    "    \"\"\"\n",
    "    This function calculates similarities/distances for passed data_set using train_data_set.\n",
    "\n",
    "    @params:\n",
    "        sim_fn: int\n",
    "            1 for Cosine Similarity\n",
    "            2 for Eucledian Distance\n",
    "            3 for Manhattan Distance\n",
    "        data_set: list\n",
    "            list of object with keys as 'label':string \n",
    "            and 'data': list of word for each sentence\n",
    "        tf_idf: 2D list\n",
    "            TF-IDF of passed data_set\n",
    "\n",
    "    @return:\n",
    "        list of object as,\n",
    "            key : label, \n",
    "            value : list of tuples having (label, its similarity value) \n",
    "                    for each item in data_set\n",
    "    \"\"\"\n",
    "    res = list()\n",
    "\n",
    "    for x, data_item in data_set.iterrows():\n",
    "        tmp_dict = dict()\n",
    "        tmp_list = list()\n",
    "        for y, train_data in train_data_set.iterrows():\n",
    "            sim_val = 0\n",
    "            if sim_fn == 1:\n",
    "                sim_val = 1 - cosine_sim(tf_idf_train[y], tf_idf[x])\n",
    "            elif sim_fn == 2:\n",
    "                sim_val = euclidean_dist(tf_idf_train[y], tf_idf[x])\n",
    "            else:\n",
    "                sim_val = manhattan_dist(tf_idf_train[y], tf_idf[x])\n",
    "\n",
    "            tmp_list.append((train_data['label'], sim_val))\n",
    "\n",
    "        tmp_dict[data_item['label']] = sorted(tmp_list, key = lambda i : i[1])\n",
    "        res.append(tmp_dict)\n",
    "\n",
    "    return res\n",
    "    \n",
    "\n",
    "# def get_accuracy_ratio(k, sim_fn):\n",
    "#     \"\"\"\n",
    "#     @params: k-value, similarity funtion selector\n",
    "#     @return: accuracy ratio\n",
    "#     \"\"\"\n",
    "#     test_train_cos_sim = get_similarity_obj_list(k, sim_fn)\n",
    "#     right_count = 0\n",
    "#     for res_data in test_train_cos_sim:\n",
    "#         for label in res_data:\n",
    "#             correct_ratio = 0\n",
    "#             for arr_elem in res_data[label][:k]:\n",
    "#                 if(arr_elem[0] == label):\n",
    "#                     correct_ratio += 1\n",
    "#             if(correct_ratio/k) >= 0.5:\n",
    "#                 right_count += 1\n",
    "\n",
    "#     return right_count/len(test_train_cos_sim)\n",
    "\n",
    "\n",
    "def get_truth_predict_tuple_list(k, dict_list):\n",
    "    \"\"\"\n",
    "    This Fn calculates predicted value using k-value\n",
    "    @params: \n",
    "        k-value: int, \n",
    "        dict_list: list\n",
    "            list of dict having key as label (truth value) and\n",
    "            key as list of tuples having (label, similarity value\n",
    "\n",
    "    @return: list of tuple as (truth value, predicted value)\n",
    "    \"\"\"\n",
    "    resp = list()\n",
    "    for res_data in dict_list:\n",
    "        for label in res_data:\n",
    "            ham_count = 0\n",
    "            spam_count = 0\n",
    "            # for arr_elem in res_data[label][:k]:\n",
    "            for idx in range(k):\n",
    "                arr_elem = res_data[label][idx]\n",
    "                if(arr_elem[0] == 'spam'):\n",
    "                    spam_count += 1\n",
    "                else:\n",
    "                    ham_count += 1\n",
    "\n",
    "            if(spam_count > ham_count):\n",
    "                resp.append((label, 'spam'))\n",
    "            else:\n",
    "                resp.append((label, 'ham'))\n",
    "    return resp\n"
   ]
  },
  {
   "cell_type": "code",
   "execution_count": 42,
   "id": "4d2719cd",
   "metadata": {},
   "outputs": [],
   "source": [
    "def get_f1_score(k, dict_list):\n",
    "    \"\"\"\n",
    "    @params: \n",
    "        k: int\n",
    "            k-value,\n",
    "        dict_list: list\n",
    "            list of dict having key as label (truth value) and\n",
    "            key as list of tuples having (label, similarity value\n",
    "        \n",
    "    @return: int\n",
    "        f1 score value\n",
    "    \"\"\"\n",
    "    tuple_list = get_truth_predict_tuple_list(k, dict_list)\n",
    "\n",
    "    true_positive = 0\n",
    "    true_negative = 0\n",
    "    false_positive = 0\n",
    "    false_negative = 0\n",
    "\n",
    "    for it in tuple_list:\n",
    "        if(it[0] == 'spam'):\n",
    "            if(it[0] == it[1]):\n",
    "                true_positive += 1\n",
    "            else:\n",
    "                false_negative += 1\n",
    "        else:\n",
    "            if(it[0] == it[1]):\n",
    "                true_negative += 1\n",
    "            else:\n",
    "                false_positive += 1\n",
    "\n",
    "    # return [[true_positive, false_negative], [false_positive, true_negative]]\n",
    "\n",
    "    precision = 0\n",
    "    if (true_positive + false_positive) != 0:\n",
    "        precision = true_positive/float(true_positive + false_positive)\n",
    "\n",
    "    recall = 0\n",
    "    if (true_positive + false_negative) != 0:\n",
    "        recall = true_positive/float(true_positive + false_negative)\n",
    "\n",
    "    f1_score = 0\n",
    "    if (precision + recall) != 0:\n",
    "        f1_score = 2 * ((precision * recall)/float(precision + recall))\n",
    "    \n",
    "    return f1_score\n"
   ]
  },
  {
   "cell_type": "markdown",
   "id": "bcf6f3b1",
   "metadata": {},
   "source": [
    "***2. Explain which distance measure works best and why? Explore the distance measures and weigh their pro and cons in different application settings.***"
   ]
  },
  {
   "cell_type": "markdown",
   "id": "bae57a01",
   "metadata": {},
   "source": []
  },
  {
   "cell_type": "markdown",
   "id": "45a99c76",
   "metadata": {},
   "source": [
    "***3. Report Mean Squared Error(MSE), Mean-Absolute-Error(MAE), R-squared (R2) score in a tabular form***"
   ]
  },
  {
   "cell_type": "code",
   "execution_count": null,
   "id": "e9668814",
   "metadata": {},
   "outputs": [],
   "source": []
  },
  {
   "cell_type": "markdown",
   "id": "d4dde8d3",
   "metadata": {},
   "source": [
    "***4. Choose different K values (k=1,3,5,7,11,17,23,28) and experiment. Plot a graph showing F1 score vs k.***"
   ]
  },
  {
   "cell_type": "code",
   "execution_count": 43,
   "id": "ad0275fe",
   "metadata": {},
   "outputs": [
    {
     "name": "stderr",
     "output_type": "stream",
     "text": [
      "/var/folders/c9/1760g61j5qv_09twk6bg40kh0000gn/T/ipykernel_39075/1941715078.py:2: RuntimeWarning: invalid value encountered in double_scalars\n",
      "  return dot(train_list, test_list)/(norm(train_list)*norm(test_list))\n"
     ]
    }
   ],
   "source": [
    "k_val_range = [1,3,5,7,11,17,23,28]\n",
    "f1_val_list_cos_sim = list()\n",
    "f1_val_list_euc_dist = list()\n",
    "f1_val_list_man_dist = list()\n",
    "\n",
    "validate_train_sim_dict = get_similarity_obj_list(1, validate_data_set, tf_idf_validate)\n",
    "validate_train_euc_dict = get_similarity_obj_list(2, validate_data_set, tf_idf_validate)\n",
    "validate_train_man_dict = get_similarity_obj_list(3, validate_data_set, tf_idf_validate)\n",
    "\n",
    "for k in k_val_range:\n",
    "    f1_val_list_cos_sim.append(get_f1_score(k, validate_train_sim_dict))\n",
    "    f1_val_list_euc_dist.append(get_f1_score(k, validate_train_euc_dict))\n",
    "    f1_val_list_man_dist.append(get_f1_score(k, validate_train_man_dict))\n",
    "\n"
   ]
  },
  {
   "cell_type": "markdown",
   "id": "5c22fe45",
   "metadata": {},
   "source": [
    "- Graph plotting"
   ]
  },
  {
   "cell_type": "code",
   "execution_count": 44,
   "id": "45e0fd2f",
   "metadata": {},
   "outputs": [
    {
     "data": {
      "image/png": "[encoded data removed]",
      "text/plain": [
       "<Figure size 432x288 with 1 Axes>"
      ]
     },
     "metadata": {
      "needs_background": "light"
     },
     "output_type": "display_data"
    }
   ],
   "source": [
    "plt.xlabel('K value')\n",
    "plt.ylabel('F1 score')\n",
    "plt.title(\"F1 Score vs K-value\")\n",
    "plt.plot(k_val_range, f1_val_list_cos_sim, label='Cosine Sim', color='red')\n",
    "plt.plot(k_val_range, f1_val_list_euc_dist, label='Eucledian Dist', color='blue')\n",
    "plt.plot(k_val_range, f1_val_list_man_dist, label='Manhattan Dist', color='green')\n",
    "plt.legend()\n",
    "plt.show()"
   ]
  },
  {
   "cell_type": "markdown",
   "id": "c700239e",
   "metadata": {},
   "source": [
    "- Calculation of optimal k-value"
   ]
  },
  {
   "cell_type": "code",
   "execution_count": 45,
   "id": "2cf9417f",
   "metadata": {},
   "outputs": [
    {
     "data": {
      "text/plain": [
       "3"
      ]
     },
     "execution_count": 45,
     "metadata": {},
     "output_type": "execute_result"
    }
   ],
   "source": [
    "optimal_k_val = 0\n",
    "max_f1 = 0\n",
    "optimal_sim_fn = 1\n",
    "\n",
    "for i,v in enumerate(f1_val_list_cos_sim):\n",
    "    if max_f1 < v and k_val_range[i] != 1:\n",
    "        max_f1 = v\n",
    "        optimal_k_val = k_val_range[i]\n",
    "        optimal_sim_fn = 1\n",
    "\n",
    "for i,v in enumerate(f1_val_list_euc_dist):\n",
    "    if max_f1 < v and k_val_range[i] != 1:\n",
    "        max_f1 = v\n",
    "        optimal_k_val = k_val_range[i]\n",
    "        optimal_sim_fn = 2\n",
    "\n",
    "for i,v in enumerate(f1_val_list_man_dist):\n",
    "    if max_f1 < v and k_val_range[i] != 1:\n",
    "        max_f1 = v\n",
    "        optimal_k_val = k_val_range[i]\n",
    "        optimal_sim_fn = 3\n",
    "\n",
    "optimal_k_val\n"
   ]
  },
  {
   "cell_type": "code",
   "execution_count": 46,
   "metadata": {},
   "outputs": [
    {
     "name": "stderr",
     "output_type": "stream",
     "text": [
      "/var/folders/c9/1760g61j5qv_09twk6bg40kh0000gn/T/ipykernel_39075/1941715078.py:2: RuntimeWarning: invalid value encountered in double_scalars\n",
      "  return dot(train_list, test_list)/(norm(train_list)*norm(test_list))\n"
     ]
    }
   ],
   "source": [
    "f1_score_manual = get_f1_score(optimal_k_val, get_similarity_obj_list(optimal_sim_fn, test_data_set, tf_idf_test))"
   ]
  },
  {
   "cell_type": "markdown",
   "id": "15000352",
   "metadata": {},
   "source": [
    "### Train and test Sklearn's KNN classifier model on your data (use metric which gave best results on your experimentation with built-from-scratch model.)"
   ]
  },
  {
   "cell_type": "code",
   "execution_count": 47,
   "id": "48aab7d3",
   "metadata": {},
   "outputs": [],
   "source": [
    "knn = KNeighborsClassifier(optimal_k_val, metric=\"cosine\")\n",
    "knn.fit(tf_idf_train, train_data_set['label'])\n",
    "pred = knn.predict(tf_idf_test)\n",
    "f1_score_skl = metrics.f1_score(test_data_set['label'], pred, pos_label='spam')"
   ]
  },
  {
   "cell_type": "markdown",
   "id": "7d22aa47",
   "metadata": {},
   "source": [
    "***Compare both the models result.***"
   ]
  },
  {
   "cell_type": "code",
   "execution_count": 48,
   "id": "6a7a5274",
   "metadata": {},
   "outputs": [
    {
     "name": "stdout",
     "output_type": "stream",
     "text": [
      "Manually calculated F1 score 0.8178137651821863\n",
      "SKLearn calculated F1 score 0.8366533864541833\n"
     ]
    },
    {
     "data": {
      "text/plain": [
       "array([[0., 0., 0., ..., 0., 0., 0.],\n",
       "       [0., 0., 0., ..., 0., 0., 0.],\n",
       "       [0., 0., 0., ..., 0., 0., 0.],\n",
       "       ...,\n",
       "       [0., 0., 0., ..., 0., 0., 0.],\n",
       "       [0., 0., 0., ..., 0., 0., 0.],\n",
       "       [0., 0., 0., ..., 0., 0., 0.]])"
      ]
     },
     "execution_count": 48,
     "metadata": {},
     "output_type": "execute_result"
    }
   ],
   "source": [
    "print(\"Manually calculated F1 score\", f1_score_manual)\n",
    "print(\"SKLearn calculated F1 score\", f1_score_skl)\n",
    "tf_idf_test"
   ]
  },
  {
   "cell_type": "markdown",
   "id": "64987575",
   "metadata": {},
   "source": [
    "***What is the time complexity of training using KNN classifier?***"
   ]
  },
  {
   "cell_type": "markdown",
   "id": "2770c106",
   "metadata": {},
   "source": []
  },
  {
   "cell_type": "markdown",
   "id": "fad1f345",
   "metadata": {},
   "source": [
    "***What is the time complexity while testing? Is KNN a linear classifier or can it learn any boundary?***"
   ]
  },
  {
   "cell_type": "raw",
   "id": "0daaa324",
   "metadata": {},
   "source": []
  }
 ],
 "metadata": {
  "kernelspec": {
   "display_name": "Python 3",
   "language": "python",
   "name": "python3"
  },
  "language_info": {
   "codemirror_mode": {
    "name": "ipython",
    "version": 3
   },
   "file_extension": ".py",
   "mimetype": "text/x-python",
   "name": "python",
   "nbconvert_exporter": "python",
   "pygments_lexer": "ipython3",
   "version": "3.8.9"
  }
 },
 "nbformat": 4,
 "nbformat_minor": 5
}
